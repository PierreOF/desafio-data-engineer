{
  "cells": [
    {
      "cell_type": "code",
      "execution_count": 3,
      "metadata": {
        "id": "J8IPXz_XwzVE"
      },
      "outputs": [],
      "source": [
        "import pandas as pd"
      ]
    },
    {
      "cell_type": "code",
      "execution_count": 4,
      "metadata": {
        "id": "ZAUlrAiFy-k9"
      },
      "outputs": [],
      "source": [
        "customers_path = 'data/olist_customers_dataset.csv'\n",
        "geolocation_path = 'data/olist_geolocation_dataset.csv'\n",
        "order_items_path = 'data/olist_order_items_dataset.csv'\n",
        "order_payments_path = 'data/olist_order_payments_dataset.csv'\n",
        "order_reviews_path = 'data/olist_order_reviews_dataset.csv'\n",
        "products_path = 'data/olist_products_dataset.csv'\n",
        "sellers_path = 'data/olist_sellers_dataset.csv'\n",
        "category_path = 'data/product_category_name_translation.csv'"
      ]
    },
    {
      "cell_type": "code",
      "execution_count": 5,
      "metadata": {
        "id": "97CvwlTe2ax7"
      },
      "outputs": [],
      "source": [
        "customers_df = pd.read_csv(customers_path)\n",
        "geolocation_df = pd.read_csv(geolocation_path)\n",
        "order_items_df = pd.read_csv(order_items_path)\n",
        "order_payments_df = pd.read_csv(order_payments_path)\n",
        "order_reviews_df = pd.read_csv(order_reviews_path)\n",
        "products_df = pd.read_csv(products_path)\n",
        "sellers_df = pd.read_csv(sellers_path)\n",
        "category_df = pd.read_csv(category_path)\n",
        "\n",
        "tabelas = {\n",
        "    'customers': customers_df,\n",
        "    'geolocation': geolocation_df,\n",
        "    'order_items': order_items_df,\n",
        "    'order_payments': order_payments_df,\n",
        "    'order_reviews': order_reviews_df,\n",
        "    'products': products_df,\n",
        "    'sellers': sellers_df,\n",
        "    'category': category_df\n",
        "}"
      ]
    },
    {
      "cell_type": "markdown",
      "metadata": {
        "id": "eWLwbL0KGp7j"
      },
      "source": [
        "# Visão Geral das bases\n"
      ]
    },
    {
      "cell_type": "code",
      "execution_count": 6,
      "metadata": {
        "colab": {
          "base_uri": "https://localhost:8080/"
        },
        "id": "E3IhORiCGvQA",
        "outputId": "e60342fa-1b82-4351-82ed-d81a4474c577"
      },
      "outputs": [
        {
          "name": "stdout",
          "output_type": "stream",
          "text": [
            "TABELA: customers\n",
            "<class 'pandas.core.frame.DataFrame'>\n",
            "RangeIndex: 99441 entries, 0 to 99440\n",
            "Data columns (total 5 columns):\n",
            " #   Column                    Non-Null Count  Dtype \n",
            "---  ------                    --------------  ----- \n",
            " 0   customer_id               99441 non-null  object\n",
            " 1   customer_unique_id        99441 non-null  object\n",
            " 2   customer_zip_code_prefix  99441 non-null  int64 \n",
            " 3   customer_city             99441 non-null  object\n",
            " 4   customer_state            99441 non-null  object\n",
            "dtypes: int64(1), object(4)\n",
            "memory usage: 3.8+ MB\n",
            "None\n",
            "TABELA: geolocation\n",
            "<class 'pandas.core.frame.DataFrame'>\n",
            "RangeIndex: 1000163 entries, 0 to 1000162\n",
            "Data columns (total 5 columns):\n",
            " #   Column                       Non-Null Count    Dtype  \n",
            "---  ------                       --------------    -----  \n",
            " 0   geolocation_zip_code_prefix  1000163 non-null  int64  \n",
            " 1   geolocation_lat              1000163 non-null  float64\n",
            " 2   geolocation_lng              1000163 non-null  float64\n",
            " 3   geolocation_city             1000163 non-null  object \n",
            " 4   geolocation_state            1000163 non-null  object \n",
            "dtypes: float64(2), int64(1), object(2)\n",
            "memory usage: 38.2+ MB\n",
            "None\n",
            "TABELA: order_items\n",
            "<class 'pandas.core.frame.DataFrame'>\n",
            "RangeIndex: 112650 entries, 0 to 112649\n",
            "Data columns (total 7 columns):\n",
            " #   Column               Non-Null Count   Dtype  \n",
            "---  ------               --------------   -----  \n",
            " 0   order_id             112650 non-null  object \n",
            " 1   order_item_id        112650 non-null  int64  \n",
            " 2   product_id           112650 non-null  object \n",
            " 3   seller_id            112650 non-null  object \n",
            " 4   shipping_limit_date  112650 non-null  object \n",
            " 5   price                112650 non-null  float64\n",
            " 6   freight_value        112650 non-null  float64\n",
            "dtypes: float64(2), int64(1), object(4)\n",
            "memory usage: 6.0+ MB\n",
            "None\n",
            "TABELA: order_payments\n",
            "<class 'pandas.core.frame.DataFrame'>\n",
            "RangeIndex: 103886 entries, 0 to 103885\n",
            "Data columns (total 5 columns):\n",
            " #   Column                Non-Null Count   Dtype  \n",
            "---  ------                --------------   -----  \n",
            " 0   order_id              103886 non-null  object \n",
            " 1   payment_sequential    103886 non-null  int64  \n",
            " 2   payment_type          103886 non-null  object \n",
            " 3   payment_installments  103886 non-null  int64  \n",
            " 4   payment_value         103886 non-null  float64\n",
            "dtypes: float64(1), int64(2), object(2)\n",
            "memory usage: 4.0+ MB\n",
            "None\n",
            "TABELA: order_reviews\n",
            "<class 'pandas.core.frame.DataFrame'>\n",
            "RangeIndex: 99224 entries, 0 to 99223\n",
            "Data columns (total 7 columns):\n",
            " #   Column                   Non-Null Count  Dtype \n",
            "---  ------                   --------------  ----- \n",
            " 0   review_id                99224 non-null  object\n",
            " 1   order_id                 99224 non-null  object\n",
            " 2   review_score             99224 non-null  int64 \n",
            " 3   review_comment_title     11568 non-null  object\n",
            " 4   review_comment_message   40977 non-null  object\n",
            " 5   review_creation_date     99224 non-null  object\n",
            " 6   review_answer_timestamp  99224 non-null  object\n",
            "dtypes: int64(1), object(6)\n",
            "memory usage: 5.3+ MB\n",
            "None\n",
            "TABELA: products\n",
            "<class 'pandas.core.frame.DataFrame'>\n",
            "RangeIndex: 32951 entries, 0 to 32950\n",
            "Data columns (total 9 columns):\n",
            " #   Column                      Non-Null Count  Dtype  \n",
            "---  ------                      --------------  -----  \n",
            " 0   product_id                  32951 non-null  object \n",
            " 1   product_category_name       32341 non-null  object \n",
            " 2   product_name_lenght         32341 non-null  float64\n",
            " 3   product_description_lenght  32341 non-null  float64\n",
            " 4   product_photos_qty          32341 non-null  float64\n",
            " 5   product_weight_g            32949 non-null  float64\n",
            " 6   product_length_cm           32949 non-null  float64\n",
            " 7   product_height_cm           32949 non-null  float64\n",
            " 8   product_width_cm            32949 non-null  float64\n",
            "dtypes: float64(7), object(2)\n",
            "memory usage: 2.3+ MB\n",
            "None\n",
            "TABELA: sellers\n",
            "<class 'pandas.core.frame.DataFrame'>\n",
            "RangeIndex: 3095 entries, 0 to 3094\n",
            "Data columns (total 4 columns):\n",
            " #   Column                  Non-Null Count  Dtype \n",
            "---  ------                  --------------  ----- \n",
            " 0   seller_id               3095 non-null   object\n",
            " 1   seller_zip_code_prefix  3095 non-null   int64 \n",
            " 2   seller_city             3095 non-null   object\n",
            " 3   seller_state            3095 non-null   object\n",
            "dtypes: int64(1), object(3)\n",
            "memory usage: 96.8+ KB\n",
            "None\n",
            "TABELA: category\n",
            "<class 'pandas.core.frame.DataFrame'>\n",
            "RangeIndex: 71 entries, 0 to 70\n",
            "Data columns (total 2 columns):\n",
            " #   Column                         Non-Null Count  Dtype \n",
            "---  ------                         --------------  ----- \n",
            " 0   product_category_name          71 non-null     object\n",
            " 1   product_category_name_english  71 non-null     object\n",
            "dtypes: object(2)\n",
            "memory usage: 1.2+ KB\n",
            "None\n"
          ]
        }
      ],
      "source": [
        "for nome,df in tabelas.items():\n",
        "  print(f\"TABELA: {nome}\")\n",
        "  print(df.info())\n"
      ]
    },
    {
      "cell_type": "markdown",
      "metadata": {
        "id": "8tjwxELh5o18"
      },
      "source": [
        "# Preparação dos Dados"
      ]
    },
    {
      "cell_type": "code",
      "execution_count": 7,
      "metadata": {
        "colab": {
          "base_uri": "https://localhost:8080/"
        },
        "id": "75jjP_0Z2gut",
        "outputId": "1896b6b5-7524-4ccc-ab3f-f987e2cd57e3"
      },
      "outputs": [
        {
          "name": "stdout",
          "output_type": "stream",
          "text": [
            "TABELA: customers\n",
            "customer_id                 0\n",
            "customer_unique_id          0\n",
            "customer_zip_code_prefix    0\n",
            "customer_city               0\n",
            "customer_state              0\n",
            "dtype: int64\n",
            "0\n",
            "TABELA: geolocation\n",
            "geolocation_zip_code_prefix    0\n",
            "geolocation_lat                0\n",
            "geolocation_lng                0\n",
            "geolocation_city               0\n",
            "geolocation_state              0\n",
            "dtype: int64\n",
            "261831\n",
            "TABELA: order_items\n",
            "order_id               0\n",
            "order_item_id          0\n",
            "product_id             0\n",
            "seller_id              0\n",
            "shipping_limit_date    0\n",
            "price                  0\n",
            "freight_value          0\n",
            "dtype: int64\n",
            "0\n",
            "TABELA: order_payments\n",
            "order_id                0\n",
            "payment_sequential      0\n",
            "payment_type            0\n",
            "payment_installments    0\n",
            "payment_value           0\n",
            "dtype: int64\n",
            "0\n",
            "TABELA: order_reviews\n",
            "review_id                      0\n",
            "order_id                       0\n",
            "review_score                   0\n",
            "review_comment_title       87656\n",
            "review_comment_message     58247\n",
            "review_creation_date           0\n",
            "review_answer_timestamp        0\n",
            "dtype: int64\n",
            "0\n",
            "TABELA: products\n",
            "product_id                      0\n",
            "product_category_name         610\n",
            "product_name_lenght           610\n",
            "product_description_lenght    610\n",
            "product_photos_qty            610\n",
            "product_weight_g                2\n",
            "product_length_cm               2\n",
            "product_height_cm               2\n",
            "product_width_cm                2\n",
            "dtype: int64\n",
            "0\n",
            "TABELA: sellers\n",
            "seller_id                 0\n",
            "seller_zip_code_prefix    0\n",
            "seller_city               0\n",
            "seller_state              0\n",
            "dtype: int64\n",
            "0\n",
            "TABELA: category\n",
            "product_category_name            0\n",
            "product_category_name_english    0\n",
            "dtype: int64\n",
            "0\n"
          ]
        }
      ],
      "source": [
        "for nome,df in tabelas.items():\n",
        "  print(f\"TABELA: {nome}\")\n",
        "  print(df.isnull().sum()) # ver quantidade de valores nulos\n",
        "  print(df.duplicated().sum()) # ver quantidade de linhas duplicadas"
      ]
    },
    {
      "cell_type": "code",
      "execution_count": 8,
      "metadata": {
        "id": "yeSZtAZW7DEY"
      },
      "outputs": [],
      "source": [
        "# substitui valores nulos de avaliações por strings vazias '' para evitar perder o restante das colunas daquela linha principalmente o score. ajuda também a evitar problemas com tipos de dados inválidos\n",
        "\n",
        "order_reviews_df['review_comment_title'] = order_reviews_df['review_comment_title'].fillna('')\n",
        "order_reviews_df['review_comment_message'] = order_reviews_df['review_comment_message'].fillna('')"
      ]
    },
    {
      "cell_type": "code",
      "execution_count": 9,
      "metadata": {
        "id": "cE7OvXIp-2yY"
      },
      "outputs": [],
      "source": [
        "# como não foi informado a categoria atribuimos o valor 'desconhecido' para categorias nulas , evita perda de 610 linhas além dos campos serem menos críticos\n",
        "\n",
        "products_df['product_category_name'] = products_df['product_category_name'].fillna('desconhecido')\n",
        "\n",
        "products_df['product_name_lenght'] = products_df['product_name_lenght'].fillna(products_df['product_name_lenght'].median())\n",
        "products_df['product_description_lenght'] = products_df['product_description_lenght'].fillna(products_df['product_description_lenght'].median())\n",
        "\n",
        "products_df['product_photos_qty'] = products_df['product_photos_qty'].fillna(0)\n",
        "\n",
        "# apaga 2 linhas com valores nulos além de serem valores essenciais e difíceis de imputar\n",
        "'''\n",
        "product_weight_g (2)\n",
        "product_length_cm (2)\n",
        "product_height_cm (2)\n",
        "product_width_cm (2)\n",
        "'''\n",
        "products_df = products_df.dropna()"
      ]
    },
    {
      "cell_type": "markdown",
      "metadata": {
        "id": "uwcv6DFVParo"
      },
      "source": [
        "## Padronização de nomes de colunas\n"
      ]
    },
    {
      "cell_type": "code",
      "execution_count": 10,
      "metadata": {
        "id": "wShp2VcTPi71"
      },
      "outputs": [],
      "source": [
        "# corrige erro de escrita na coluna\n",
        "\n",
        "products_df = products_df.rename(columns={\n",
        "    'product_name_lenght': 'product_name_length',\n",
        "    'product_description_lenght': 'product_description_length'\n",
        "})"
      ]
    },
    {
      "cell_type": "markdown",
      "metadata": {
        "id": "HHDJIWIFPc5G"
      },
      "source": [
        "## Conversão de tipos\n"
      ]
    },
    {
      "cell_type": "code",
      "execution_count": 11,
      "metadata": {
        "id": "j9gwMRIuPjQQ"
      },
      "outputs": [],
      "source": [
        "# Zip codes para string\n",
        "customers_df['customer_zip_code_prefix'] = customers_df['customer_zip_code_prefix'].astype(str)\n",
        "geolocation_df['geolocation_zip_code_prefix'] = geolocation_df['geolocation_zip_code_prefix'].astype(str)\n",
        "sellers_df['seller_zip_code_prefix'] = sellers_df['seller_zip_code_prefix'].astype(str)\n",
        "\n",
        "# Datas para datetime\n",
        "order_items_df['shipping_limit_date'] = pd.to_datetime(order_items_df['shipping_limit_date'])\n",
        "order_reviews_df['review_creation_date'] = pd.to_datetime(order_reviews_df['review_creation_date'])\n",
        "order_reviews_df['review_answer_timestamp'] = pd.to_datetime(order_reviews_df['review_answer_timestamp'])\n"
      ]
    },
    {
      "cell_type": "markdown",
      "metadata": {
        "id": "KU3i-vTqPgyj"
      },
      "source": [
        "## Modelagem Relacional\n"
      ]
    },
    {
      "cell_type": "code",
      "execution_count": null,
      "metadata": {
        "id": "ZsAkoQ5uPacq"
      },
      "outputs": [],
      "source": []
    },
    {
      "cell_type": "code",
      "execution_count": null,
      "metadata": {
        "id": "lZMaNyzECpyD"
      },
      "outputs": [],
      "source": []
    }
  ],
  "metadata": {
    "colab": {
      "provenance": []
    },
    "kernelspec": {
      "display_name": "Python 3",
      "name": "python3"
    },
    "language_info": {
      "codemirror_mode": {
        "name": "ipython",
        "version": 3
      },
      "file_extension": ".py",
      "mimetype": "text/x-python",
      "name": "python",
      "nbconvert_exporter": "python",
      "pygments_lexer": "ipython3",
      "version": "3.13.2"
    }
  },
  "nbformat": 4,
  "nbformat_minor": 0
}
